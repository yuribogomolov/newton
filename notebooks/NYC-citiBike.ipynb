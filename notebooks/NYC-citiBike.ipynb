{
 "cells": [
  {
   "cell_type": "code",
   "execution_count": 2,
   "id": "2bd3a4fa",
   "metadata": {},
   "outputs": [],
   "source": [
    "from sttn.data.nyc import CitiBikeDataProvider"
   ]
  },
  {
   "cell_type": "code",
   "execution_count": 3,
   "id": "6497ae20",
   "metadata": {},
   "outputs": [
    {
     "name": "stderr",
     "output_type": "stream",
     "text": [
      "/Users/devashishkhulbe/Desktop/research/NLQ/sttn/src/sttn/data/nyc.py:182: DtypeWarning: Columns (5,7) have mixed types. Specify dtype option on import or set low_memory=False.\n",
      "  df = pd.read_csv(csv_file, usecols=column_names, parse_dates=['started_at'])\n"
     ]
    }
   ],
   "source": [
    "month='12'\n",
    "year='2023'\n",
    "ctb = CitiBikeDataProvider()\n",
    "bikeNet = ctb.get_data(month, year)"
   ]
  },
  {
   "cell_type": "code",
   "execution_count": 4,
   "id": "e52cdb6a",
   "metadata": {},
   "outputs": [
    {
     "data": {
      "text/html": [
       "<div>\n",
       "<style scoped>\n",
       "    .dataframe tbody tr th:only-of-type {\n",
       "        vertical-align: middle;\n",
       "    }\n",
       "\n",
       "    .dataframe tbody tr th {\n",
       "        vertical-align: top;\n",
       "    }\n",
       "\n",
       "    .dataframe thead th {\n",
       "        text-align: right;\n",
       "    }\n",
       "</style>\n",
       "<table border=\"1\" class=\"dataframe\">\n",
       "  <thead>\n",
       "    <tr style=\"text-align: right;\">\n",
       "      <th></th>\n",
       "      <th>time</th>\n",
       "      <th>ended_at</th>\n",
       "      <th>origin</th>\n",
       "      <th>destination</th>\n",
       "      <th>start_lat</th>\n",
       "      <th>start_lng</th>\n",
       "      <th>end_lat</th>\n",
       "      <th>end_lng</th>\n",
       "    </tr>\n",
       "  </thead>\n",
       "  <tbody>\n",
       "    <tr>\n",
       "      <th>0</th>\n",
       "      <td>2023-12-07 12:40:22</td>\n",
       "      <td>2023-12-07 12:47:09</td>\n",
       "      <td>5484.09</td>\n",
       "      <td>5763.03</td>\n",
       "      <td>40.721818</td>\n",
       "      <td>-73.989172</td>\n",
       "      <td>40.730386</td>\n",
       "      <td>-74.002150</td>\n",
       "    </tr>\n",
       "    <tr>\n",
       "      <th>1</th>\n",
       "      <td>2023-12-29 13:47:27</td>\n",
       "      <td>2023-12-29 13:54:02</td>\n",
       "      <td>4199.12</td>\n",
       "      <td>4175.15</td>\n",
       "      <td>40.680974</td>\n",
       "      <td>-73.971010</td>\n",
       "      <td>40.677274</td>\n",
       "      <td>-73.982820</td>\n",
       "    </tr>\n",
       "    <tr>\n",
       "      <th>2</th>\n",
       "      <td>2023-12-14 19:57:46</td>\n",
       "      <td>2023-12-14 20:15:12</td>\n",
       "      <td>7409.04</td>\n",
       "      <td>6626.11</td>\n",
       "      <td>40.786249</td>\n",
       "      <td>-73.975446</td>\n",
       "      <td>40.757769</td>\n",
       "      <td>-73.979294</td>\n",
       "    </tr>\n",
       "    <tr>\n",
       "      <th>3</th>\n",
       "      <td>2023-12-20 16:55:15</td>\n",
       "      <td>2023-12-20 17:04:03</td>\n",
       "      <td>7146.04</td>\n",
       "      <td>7354.01</td>\n",
       "      <td>40.775369</td>\n",
       "      <td>-73.948034</td>\n",
       "      <td>40.784760</td>\n",
       "      <td>-73.969862</td>\n",
       "    </tr>\n",
       "    <tr>\n",
       "      <th>4</th>\n",
       "      <td>2023-12-30 14:43:15</td>\n",
       "      <td>2023-12-30 14:56:33</td>\n",
       "      <td>7409.04</td>\n",
       "      <td>6762.02</td>\n",
       "      <td>40.786238</td>\n",
       "      <td>-73.975478</td>\n",
       "      <td>40.760958</td>\n",
       "      <td>-73.967245</td>\n",
       "    </tr>\n",
       "  </tbody>\n",
       "</table>\n",
       "</div>"
      ],
      "text/plain": [
       "                 time             ended_at   origin destination  start_lat  \\\n",
       "0 2023-12-07 12:40:22  2023-12-07 12:47:09  5484.09     5763.03  40.721818   \n",
       "1 2023-12-29 13:47:27  2023-12-29 13:54:02  4199.12     4175.15  40.680974   \n",
       "2 2023-12-14 19:57:46  2023-12-14 20:15:12  7409.04     6626.11  40.786249   \n",
       "3 2023-12-20 16:55:15  2023-12-20 17:04:03  7146.04     7354.01  40.775369   \n",
       "4 2023-12-30 14:43:15  2023-12-30 14:56:33  7409.04     6762.02  40.786238   \n",
       "\n",
       "   start_lng    end_lat    end_lng  \n",
       "0 -73.989172  40.730386 -74.002150  \n",
       "1 -73.971010  40.677274 -73.982820  \n",
       "2 -73.975446  40.757769 -73.979294  \n",
       "3 -73.948034  40.784760 -73.969862  \n",
       "4 -73.975478  40.760958 -73.967245  "
      ]
     },
     "execution_count": 4,
     "metadata": {},
     "output_type": "execute_result"
    }
   ],
   "source": [
    "bikeNet.edges.head()"
   ]
  },
  {
   "cell_type": "code",
   "execution_count": 5,
   "id": "6cf88c21",
   "metadata": {},
   "outputs": [
    {
     "data": {
      "text/plain": [
       "time           datetime64[ns]\n",
       "ended_at               object\n",
       "origin                 object\n",
       "destination            object\n",
       "start_lat             float64\n",
       "start_lng             float64\n",
       "end_lat               float64\n",
       "end_lng               float64\n",
       "dtype: object"
      ]
     },
     "execution_count": 5,
     "metadata": {},
     "output_type": "execute_result"
    }
   ],
   "source": [
    "bikeNet.edges.dtypes"
   ]
  },
  {
   "cell_type": "code",
   "execution_count": 6,
   "id": "1b5d6e5e",
   "metadata": {},
   "outputs": [
    {
     "data": {
      "text/plain": [
       "start_lat     float64\n",
       "start_lng     float64\n",
       "geometry     geometry\n",
       "dtype: object"
      ]
     },
     "execution_count": 6,
     "metadata": {},
     "output_type": "execute_result"
    }
   ],
   "source": [
    "bikeNet.nodes.dtypes"
   ]
  },
  {
   "cell_type": "code",
   "execution_count": null,
   "id": "c3b4f386",
   "metadata": {},
   "outputs": [],
   "source": []
  }
 ],
 "metadata": {
  "kernelspec": {
   "display_name": "sttn-exp",
   "language": "python",
   "name": "sttn-exp"
  },
  "language_info": {
   "codemirror_mode": {
    "name": "ipython",
    "version": 3
   },
   "file_extension": ".py",
   "mimetype": "text/x-python",
   "name": "python",
   "nbconvert_exporter": "python",
   "pygments_lexer": "ipython3",
   "version": "3.8.18"
  }
 },
 "nbformat": 4,
 "nbformat_minor": 5
}
